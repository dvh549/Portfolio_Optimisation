{
 "cells": [
  {
   "cell_type": "code",
   "execution_count": 1,
   "metadata": {},
   "outputs": [],
   "source": [
    "# General / Common libs\n",
    "import pandas as pd\n",
    "import numpy as np\n",
    "import matplotlib.pyplot as plt\n",
    "from sklearn.metrics import mean_absolute_percentage_error\n",
    "from pandas_datareader import data as pdr\n",
    "from datetime import datetime, timedelta\n",
    "import yfinance as yf\n",
    "yf.pdr_override()\n",
    "\n",
    "# Statistical Model(s)\n",
    "from prophet import Prophet\n",
    "\n",
    "# Deep Learning Model(s)\n",
    "from tensorflow.keras.models import Sequential\n",
    "from tensorflow.keras.layers import LSTM, Dense, Bidirectional, Dropout"
   ]
  },
  {
   "cell_type": "code",
   "execution_count": 2,
   "metadata": {},
   "outputs": [
    {
     "name": "stdout",
     "output_type": "stream",
     "text": [
      "[*********************100%***********************]  1 of 1 completed\n"
     ]
    }
   ],
   "source": [
    "start, end = (datetime.today() - timedelta(days=365)).strftime(\"%Y-%m-%d\"), datetime.today().strftime(\"%Y-%m-%d\")\n",
    "data = pdr.get_data_yahoo(\"AAPL\", start=start, end=end)\n",
    "close = data[\"Close\"]"
   ]
  },
  {
   "cell_type": "code",
   "execution_count": 3,
   "metadata": {},
   "outputs": [],
   "source": [
    "def sampling(sequence, n_steps):\n",
    "    X, Y = list(), list()\n",
    "\n",
    "    for i in range(len(sequence)):\n",
    "        sam = i + n_steps\n",
    "        if sam > len(sequence)-1:\n",
    "            break\n",
    "        x, y = sequence[i:sam], sequence[sam]\n",
    "        X.append(x)\n",
    "        Y.append(y)\n",
    "\n",
    "    X, y = np.array(X), np.array(Y)\n",
    "    return X, y"
   ]
  },
  {
   "cell_type": "code",
   "execution_count": 4,
   "metadata": {},
   "outputs": [],
   "source": [
    "def plot_graph(expected, predicted):\n",
    "    plt.plot(expected, label=\"Expected\")\n",
    "    plt.plot(predicted, label=\"Predicted\")\n",
    "    plt.legend()\n",
    "    plt.show()"
   ]
  },
  {
   "cell_type": "markdown",
   "metadata": {},
   "source": [
    "# Prophet"
   ]
  },
  {
   "cell_type": "code",
   "execution_count": 5,
   "metadata": {},
   "outputs": [
    {
     "data": {
      "text/html": [
       "<div>\n",
       "<style scoped>\n",
       "    .dataframe tbody tr th:only-of-type {\n",
       "        vertical-align: middle;\n",
       "    }\n",
       "\n",
       "    .dataframe tbody tr th {\n",
       "        vertical-align: top;\n",
       "    }\n",
       "\n",
       "    .dataframe thead th {\n",
       "        text-align: right;\n",
       "    }\n",
       "</style>\n",
       "<table border=\"1\" class=\"dataframe\">\n",
       "  <thead>\n",
       "    <tr style=\"text-align: right;\">\n",
       "      <th></th>\n",
       "      <th>ds</th>\n",
       "      <th>y</th>\n",
       "    </tr>\n",
       "  </thead>\n",
       "  <tbody>\n",
       "    <tr>\n",
       "      <th>0</th>\n",
       "      <td>2021-07-26</td>\n",
       "      <td>148.990005</td>\n",
       "    </tr>\n",
       "    <tr>\n",
       "      <th>1</th>\n",
       "      <td>2021-07-27</td>\n",
       "      <td>146.770004</td>\n",
       "    </tr>\n",
       "    <tr>\n",
       "      <th>2</th>\n",
       "      <td>2021-07-28</td>\n",
       "      <td>144.979996</td>\n",
       "    </tr>\n",
       "    <tr>\n",
       "      <th>3</th>\n",
       "      <td>2021-07-29</td>\n",
       "      <td>145.639999</td>\n",
       "    </tr>\n",
       "    <tr>\n",
       "      <th>4</th>\n",
       "      <td>2021-07-30</td>\n",
       "      <td>145.860001</td>\n",
       "    </tr>\n",
       "    <tr>\n",
       "      <th>...</th>\n",
       "      <td>...</td>\n",
       "      <td>...</td>\n",
       "    </tr>\n",
       "    <tr>\n",
       "      <th>246</th>\n",
       "      <td>2022-07-18</td>\n",
       "      <td>147.070007</td>\n",
       "    </tr>\n",
       "    <tr>\n",
       "      <th>247</th>\n",
       "      <td>2022-07-19</td>\n",
       "      <td>151.000000</td>\n",
       "    </tr>\n",
       "    <tr>\n",
       "      <th>248</th>\n",
       "      <td>2022-07-20</td>\n",
       "      <td>153.039993</td>\n",
       "    </tr>\n",
       "    <tr>\n",
       "      <th>249</th>\n",
       "      <td>2022-07-21</td>\n",
       "      <td>155.350006</td>\n",
       "    </tr>\n",
       "    <tr>\n",
       "      <th>250</th>\n",
       "      <td>2022-07-22</td>\n",
       "      <td>154.089996</td>\n",
       "    </tr>\n",
       "  </tbody>\n",
       "</table>\n",
       "<p>251 rows × 2 columns</p>\n",
       "</div>"
      ],
      "text/plain": [
       "            ds           y\n",
       "0   2021-07-26  148.990005\n",
       "1   2021-07-27  146.770004\n",
       "2   2021-07-28  144.979996\n",
       "3   2021-07-29  145.639999\n",
       "4   2021-07-30  145.860001\n",
       "..         ...         ...\n",
       "246 2022-07-18  147.070007\n",
       "247 2022-07-19  151.000000\n",
       "248 2022-07-20  153.039993\n",
       "249 2022-07-21  155.350006\n",
       "250 2022-07-22  154.089996\n",
       "\n",
       "[251 rows x 2 columns]"
      ]
     },
     "execution_count": 5,
     "metadata": {},
     "output_type": "execute_result"
    }
   ],
   "source": [
    "tailored_df = data.copy(deep=True)\n",
    "tailored_df.reset_index(inplace=True)\n",
    "tailored_df = tailored_df[[\"Date\", \"Close\"]]\n",
    "tailored_df.columns = [\"ds\", \"y\"]\n",
    "tailored_df"
   ]
  },
  {
   "cell_type": "code",
   "execution_count": 6,
   "metadata": {},
   "outputs": [
    {
     "name": "stderr",
     "output_type": "stream",
     "text": [
      "22:14:44 - cmdstanpy - INFO - Chain [1] start processing\n",
      "22:14:44 - cmdstanpy - INFO - Chain [1] done processing\n"
     ]
    },
    {
     "data": {
      "text/plain": [
       "<prophet.forecaster.Prophet at 0x225e0903b20>"
      ]
     },
     "execution_count": 6,
     "metadata": {},
     "output_type": "execute_result"
    }
   ],
   "source": [
    "prophet = Prophet()\n",
    "prophet.fit(tailored_df)"
   ]
  },
  {
   "cell_type": "code",
   "execution_count": 7,
   "metadata": {},
   "outputs": [],
   "source": [
    "future = prophet.make_future_dataframe(periods=0, freq=\"D\")"
   ]
  },
  {
   "cell_type": "code",
   "execution_count": 8,
   "metadata": {},
   "outputs": [
    {
     "data": {
      "text/html": [
       "<div>\n",
       "<style scoped>\n",
       "    .dataframe tbody tr th:only-of-type {\n",
       "        vertical-align: middle;\n",
       "    }\n",
       "\n",
       "    .dataframe tbody tr th {\n",
       "        vertical-align: top;\n",
       "    }\n",
       "\n",
       "    .dataframe thead th {\n",
       "        text-align: right;\n",
       "    }\n",
       "</style>\n",
       "<table border=\"1\" class=\"dataframe\">\n",
       "  <thead>\n",
       "    <tr style=\"text-align: right;\">\n",
       "      <th></th>\n",
       "      <th>ds</th>\n",
       "      <th>yhat</th>\n",
       "      <th>yhat_lower</th>\n",
       "      <th>yhat_upper</th>\n",
       "    </tr>\n",
       "  </thead>\n",
       "  <tbody>\n",
       "    <tr>\n",
       "      <th>0</th>\n",
       "      <td>2021-07-26</td>\n",
       "      <td>147.143923</td>\n",
       "      <td>138.542155</td>\n",
       "      <td>154.668289</td>\n",
       "    </tr>\n",
       "    <tr>\n",
       "      <th>1</th>\n",
       "      <td>2021-07-27</td>\n",
       "      <td>147.596103</td>\n",
       "      <td>139.308774</td>\n",
       "      <td>155.978712</td>\n",
       "    </tr>\n",
       "    <tr>\n",
       "      <th>2</th>\n",
       "      <td>2021-07-28</td>\n",
       "      <td>147.781182</td>\n",
       "      <td>139.102543</td>\n",
       "      <td>156.174785</td>\n",
       "    </tr>\n",
       "    <tr>\n",
       "      <th>3</th>\n",
       "      <td>2021-07-29</td>\n",
       "      <td>147.306045</td>\n",
       "      <td>138.991113</td>\n",
       "      <td>155.162572</td>\n",
       "    </tr>\n",
       "    <tr>\n",
       "      <th>4</th>\n",
       "      <td>2021-07-30</td>\n",
       "      <td>147.005391</td>\n",
       "      <td>138.937492</td>\n",
       "      <td>155.311143</td>\n",
       "    </tr>\n",
       "    <tr>\n",
       "      <th>...</th>\n",
       "      <td>...</td>\n",
       "      <td>...</td>\n",
       "      <td>...</td>\n",
       "      <td>...</td>\n",
       "    </tr>\n",
       "    <tr>\n",
       "      <th>246</th>\n",
       "      <td>2022-07-18</td>\n",
       "      <td>138.158835</td>\n",
       "      <td>129.979943</td>\n",
       "      <td>146.348850</td>\n",
       "    </tr>\n",
       "    <tr>\n",
       "      <th>247</th>\n",
       "      <td>2022-07-19</td>\n",
       "      <td>138.381642</td>\n",
       "      <td>130.355847</td>\n",
       "      <td>147.053300</td>\n",
       "    </tr>\n",
       "    <tr>\n",
       "      <th>248</th>\n",
       "      <td>2022-07-20</td>\n",
       "      <td>138.337347</td>\n",
       "      <td>129.511883</td>\n",
       "      <td>147.207631</td>\n",
       "    </tr>\n",
       "    <tr>\n",
       "      <th>249</th>\n",
       "      <td>2022-07-21</td>\n",
       "      <td>137.632836</td>\n",
       "      <td>129.693602</td>\n",
       "      <td>145.769334</td>\n",
       "    </tr>\n",
       "    <tr>\n",
       "      <th>250</th>\n",
       "      <td>2022-07-22</td>\n",
       "      <td>137.102808</td>\n",
       "      <td>129.069997</td>\n",
       "      <td>145.996653</td>\n",
       "    </tr>\n",
       "  </tbody>\n",
       "</table>\n",
       "<p>251 rows × 4 columns</p>\n",
       "</div>"
      ],
      "text/plain": [
       "            ds        yhat  yhat_lower  yhat_upper\n",
       "0   2021-07-26  147.143923  138.542155  154.668289\n",
       "1   2021-07-27  147.596103  139.308774  155.978712\n",
       "2   2021-07-28  147.781182  139.102543  156.174785\n",
       "3   2021-07-29  147.306045  138.991113  155.162572\n",
       "4   2021-07-30  147.005391  138.937492  155.311143\n",
       "..         ...         ...         ...         ...\n",
       "246 2022-07-18  138.158835  129.979943  146.348850\n",
       "247 2022-07-19  138.381642  130.355847  147.053300\n",
       "248 2022-07-20  138.337347  129.511883  147.207631\n",
       "249 2022-07-21  137.632836  129.693602  145.769334\n",
       "250 2022-07-22  137.102808  129.069997  145.996653\n",
       "\n",
       "[251 rows x 4 columns]"
      ]
     },
     "execution_count": 8,
     "metadata": {},
     "output_type": "execute_result"
    }
   ],
   "source": [
    "forecast = prophet.predict(future)\n",
    "filtered_results = forecast[['ds', 'yhat', 'yhat_lower', 'yhat_upper']]\n",
    "filtered_results"
   ]
  },
  {
   "cell_type": "code",
   "execution_count": 9,
   "metadata": {},
   "outputs": [
    {
     "data": {
      "text/plain": [
       "0.03244925827968415"
      ]
     },
     "execution_count": 9,
     "metadata": {},
     "output_type": "execute_result"
    }
   ],
   "source": [
    "mean_absolute_percentage_error(tailored_df[\"y\"], filtered_results[\"yhat\"])"
   ]
  },
  {
   "cell_type": "code",
   "execution_count": 10,
   "metadata": {},
   "outputs": [
    {
     "data": {
      "image/png": "[encoded data removed]",
      "text/plain": [
       "<Figure size 432x288 with 1 Axes>"
      ]
     },
     "metadata": {
      "needs_background": "light"
     },
     "output_type": "display_data"
    }
   ],
   "source": [
    "plot_graph(tailored_df[\"y\"], filtered_results[\"yhat\"])"
   ]
  },
  {
   "cell_type": "markdown",
   "metadata": {},
   "source": [
    "# Deep Learning (LSTM)"
   ]
  },
  {
   "cell_type": "code",
   "execution_count": 11,
   "metadata": {},
   "outputs": [],
   "source": [
    "X, y = sampling(close.tolist(), 24)\n",
    "X = X.reshape((X.shape[0], X.shape[1], 1))"
   ]
  },
  {
   "cell_type": "code",
   "execution_count": 16,
   "metadata": {},
   "outputs": [],
   "source": [
    "model = Sequential()\n",
    "model.add(Bidirectional(LSTM(100, activation='relu', return_sequences=True), input_shape=(24, 1)))\n",
    "model.add(Dropout(0.2))\n",
    "model.add(Bidirectional(LSTM(100, activation=\"relu\")))\n",
    "model.add(Dropout(0.2))\n",
    "model.add(Dense(1))\n",
    "model.compile(optimizer=\"adam\", loss=\"mae\")"
   ]
  },
  {
   "cell_type": "code",
   "execution_count": 17,
   "metadata": {},
   "outputs": [
    {
     "data": {
      "text/plain": [
       "<keras.callbacks.History at 0x2258316bf40>"
      ]
     },
     "execution_count": 17,
     "metadata": {},
     "output_type": "execute_result"
    }
   ],
   "source": [
    "model.fit(X, y, epochs=150, batch_size=32, verbose=0)"
   ]
  },
  {
   "cell_type": "code",
   "execution_count": 18,
   "metadata": {},
   "outputs": [],
   "source": [
    "predictions = model.predict(X, verbose=0)"
   ]
  },
  {
   "cell_type": "code",
   "execution_count": 19,
   "metadata": {},
   "outputs": [
    {
     "data": {
      "text/plain": [
       "0.0955190752978043"
      ]
     },
     "execution_count": 19,
     "metadata": {},
     "output_type": "execute_result"
    }
   ],
   "source": [
    "mean_absolute_percentage_error(y, predictions)"
   ]
  },
  {
   "cell_type": "code",
   "execution_count": 20,
   "metadata": {},
   "outputs": [
    {
     "data": {
      "image/png": "[encoded data removed]",
      "text/plain": [
       "<Figure size 432x288 with 1 Axes>"
      ]
     },
     "metadata": {
      "needs_background": "light"
     },
     "output_type": "display_data"
    }
   ],
   "source": [
    "plot_graph(y, predictions)"
   ]
  }
 ],
 "metadata": {
  "kernelspec": {
   "display_name": "Python 3.8.5 ('base')",
   "language": "python",
   "name": "python3"
  },
  "language_info": {
   "codemirror_mode": {
    "name": "ipython",
    "version": 3
   },
   "file_extension": ".py",
   "mimetype": "text/x-python",
   "name": "python",
   "nbconvert_exporter": "python",
   "pygments_lexer": "ipython3",
   "version": "3.8.5"
  },
  "orig_nbformat": 4,
  "vscode": {
   "interpreter": {
    "hash": "ad2bdc8ecc057115af97d19610ffacc2b4e99fae6737bb82f5d7fb13d2f2c186"
   }
  }
 },
 "nbformat": 4,
 "nbformat_minor": 2
}
